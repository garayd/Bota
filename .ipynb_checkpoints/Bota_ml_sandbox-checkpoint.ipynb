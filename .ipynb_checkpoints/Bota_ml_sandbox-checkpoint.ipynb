{
 "metadata": {
  "name": "",
  "signature": "sha256:5c857930075af7fa9cdcc5580119389125ddbb5fd1f34ea58c8587ed99f651a4"
 },
 "nbformat": 3,
 "nbformat_minor": 0,
 "worksheets": []
}